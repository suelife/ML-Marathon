{
 "cells": [
  {
   "cell_type": "markdown",
   "metadata": {},
   "source": [
    "## [作業目標]\n",
    "了解機器學習適合應用的領域與範疇。"
   ]
  },
  {
   "cell_type": "markdown",
   "metadata": {},
   "source": [
    "## [作業重點]\n",
    "透過瞭解機器學習的運作方式，找出非常適用機器學習應用的領域及其原因"
   ]
  },
  {
   "cell_type": "markdown",
   "metadata": {},
   "source": [
    "## 作業\n",
    "請找出一個你認為機器學習可以發光發熱的領域並闡述原因? "
   ]
  },
  {
   "cell_type": "markdown",
   "metadata": {},
   "source": [
    "可能是各行各業的聊天機器人?\n",
    "\n",
    "但目前能做到的也很有限，只能對分類有結果的做出回應，分類外的則依然需要仰賴真人處理。\n",
    "而在銀行業的聊天機器人，或許會更有機會，例如客戶的財產等資訊，藉此給予一些合適的理財建議及配套方案。\n",
    "旅遊業也可藉由對答方式，收集客戶回覆，推薦符合的旅遊行程等。\n",
    "\n",
    "就目前想法看來，利用聊天機器人搭配機器學習做到精準行銷，應該是一個很不錯的發展方向。"
   ]
  }
 ],
 "metadata": {
  "kernelspec": {
   "display_name": "Python 3",
   "language": "python",
   "name": "python3"
  },
  "language_info": {
   "codemirror_mode": {
    "name": "ipython",
    "version": 3
   },
   "file_extension": ".py",
   "mimetype": "text/x-python",
   "name": "python",
   "nbconvert_exporter": "python",
   "pygments_lexer": "ipython3",
   "version": "3.7.6-final"
  }
 },
 "nbformat": 4,
 "nbformat_minor": 2
}